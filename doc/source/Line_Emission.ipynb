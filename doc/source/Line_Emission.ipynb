{
 "cells": [
  {
   "cell_type": "markdown",
   "metadata": {},
   "source": [
    "This example shows how to create a line emission model. It uses a galaxy cluster from a Gadget SPH cosmological dataset, and will create a thermal model out of the gas particles and will use the dark matter particles to add line emission to the spectrum, assuming that the emission comes from some decay process of the dark matter.\n",
    "\n",
    "First, we load the modules:"
   ]
  },
  {
   "cell_type": "code",
   "execution_count": null,
   "metadata": {
    "collapsed": false
   },
   "outputs": [],
   "source": [
    "%matplotlib inline\n",
    "import matplotlib\n",
    "matplotlib.rc(\"font\", size=18, family=\"serif\")\n",
    "import yt\n",
    "import numpy as np\n",
    "import matplotlib.pyplot as plt\n",
    "from yt.units import mp\n",
    "import pyxsim"
   ]
  },
  {
   "cell_type": "markdown",
   "metadata": {},
   "source": [
    "and we load the dataset in yt:"
   ]
  },
  {
   "cell_type": "code",
   "execution_count": null,
   "metadata": {
    "collapsed": false
   },
   "outputs": [],
   "source": [
    "ds = yt.load(\"snapshot_033/snap_033.0.hdf5\")"
   ]
  },
  {
   "cell_type": "markdown",
   "metadata": {},
   "source": [
    "To get a sense of what the cluster looks like, let's take a slice through the density and temperature:"
   ]
  },
  {
   "cell_type": "code",
   "execution_count": null,
   "metadata": {
    "collapsed": false,
    "scrolled": false
   },
   "outputs": [],
   "source": [
    "slc = yt.SlicePlot(ds, \"z\", [\"density\",\"temperature\"], center=\"max\", width=(3.,\"Mpc\"))\n",
    "slc.show()"
   ]
  },
  {
   "cell_type": "markdown",
   "metadata": {},
   "source": [
    "Now set up a sphere centered on the maximum density in the dataset:"
   ]
  },
  {
   "cell_type": "code",
   "execution_count": null,
   "metadata": {
    "collapsed": false
   },
   "outputs": [],
   "source": [
    "sp = ds.sphere(\"max\", (1.0, \"Mpc\"))"
   ]
  },
  {
   "cell_type": "markdown",
   "metadata": {},
   "source": [
    "and create a thermal source model:"
   ]
  },
  {
   "cell_type": "code",
   "execution_count": null,
   "metadata": {
    "collapsed": false
   },
   "outputs": [],
   "source": [
    "spec_model = pyxsim.TableApecModel(0.05, 11.0, 10000)\n",
    "thermal_model = pyxsim.ThermalSourceModel(spec_model, Zmet=0.3)"
   ]
  },
  {
   "cell_type": "markdown",
   "metadata": {},
   "source": [
    "Now we'll set up a line emission field for the dark matter particles. We won't try to replicate a specific model, but will simply assume that the emission is proportional to the dark matter mass. Note that this field is a particle field."
   ]
  },
  {
   "cell_type": "code",
   "execution_count": null,
   "metadata": {
    "collapsed": false
   },
   "outputs": [],
   "source": [
    "norm = yt.YTQuantity(100.0, \"g**-1*s**-1\")\n",
    "\n",
    "def _dm_emission(field, data):\n",
    "    return norm*data[\"PartType1\", \"particle_mass\"]\n",
    "ds.add_field((\"PartType1\",\"dm_emission\"), function=_dm_emission, particle_type=True, \n",
    "             units=\"photons/s\")"
   ]
  },
  {
   "cell_type": "markdown",
   "metadata": {},
   "source": [
    "Now we can set up the `LineSourceModel` object. The first argument is the line center energy in keV, and the second is the field we just created, that sets up the line amplitude. There is another parameter, `sigma`, for adding in broadening of the line, but in this case we'll rely on the velocities of the dark matter particles themselves to produce the line broadening."
   ]
  },
  {
   "cell_type": "code",
   "execution_count": null,
   "metadata": {
    "collapsed": true
   },
   "outputs": [],
   "source": [
    "line_model = pyxsim.LineSourceModel(3.5, (\"PartType1\", \"dm_emission\"))"
   ]
  },
  {
   "cell_type": "markdown",
   "metadata": {},
   "source": [
    "Now set up the parameters for generating the photons:"
   ]
  },
  {
   "cell_type": "code",
   "execution_count": null,
   "metadata": {
    "collapsed": true
   },
   "outputs": [],
   "source": [
    "exp_time = (300., \"ks\") # exposure time\n",
    "area = (1000.0, \"cm**2\") # collecting area\n",
    "redshift = 0.05"
   ]
  },
  {
   "cell_type": "markdown",
   "metadata": {},
   "source": [
    "and actually generate the photons:"
   ]
  },
  {
   "cell_type": "code",
   "execution_count": null,
   "metadata": {
    "collapsed": false
   },
   "outputs": [],
   "source": [
    "thermal_photons = pyxsim.PhotonList.from_data_source(sp, redshift, area, exp_time, thermal_model)\n",
    "line_photons = pyxsim.PhotonList.from_data_source(sp, redshift, area, exp_time, line_model)\n",
    "\n",
    "photons = line_photons + thermal_photons"
   ]
  },
  {
   "cell_type": "markdown",
   "metadata": {},
   "source": [
    "Next, set up an absorption model and project the photons for the total set and the line set by itself:"
   ]
  },
  {
   "cell_type": "code",
   "execution_count": null,
   "metadata": {
    "collapsed": false
   },
   "outputs": [],
   "source": [
    "thermal_photons.parameters"
   ]
  },
  {
   "cell_type": "code",
   "execution_count": null,
   "metadata": {
    "collapsed": false
   },
   "outputs": [],
   "source": [
    "line_photons.parameters"
   ]
  },
  {
   "cell_type": "code",
   "execution_count": null,
   "metadata": {
    "collapsed": false
   },
   "outputs": [],
   "source": [
    "nH_sim = 0.02\n",
    "abs_model = pyxsim.TableAbsorbModel(\"tbabs_table.h5\", nH_sim)\n",
    "\n",
    "events = photons.project_photons(\"y\", absorb_model=abs_model)\n",
    "line_events = line_photons.project_photons(\"y\", absorb_model=abs_model)"
   ]
  },
  {
   "cell_type": "markdown",
   "metadata": {},
   "source": [
    "Write the raw, unconvolved spectra to disk:"
   ]
  },
  {
   "cell_type": "code",
   "execution_count": null,
   "metadata": {
    "collapsed": true
   },
   "outputs": [],
   "source": [
    "events.write_spectrum(\"all_spec.fits\", bin_type=\"energy\", emin=0.1, emax=10.0, nchan=5000, clobber=True)\n",
    "line_events.write_spectrum(\"line_spec.fits\", bin_type=\"energy\", emin=0.1, emax=10.0, nchan=5000, clobber=True)"
   ]
  },
  {
   "cell_type": "markdown",
   "metadata": {},
   "source": [
    "Now let's plot up both spectra. We see that we have a thermal spectrum with the addition of a line at 3.5 keV (in real life such a line would not be so prominent, but it makes the example easier to see):"
   ]
  },
  {
   "cell_type": "code",
   "execution_count": null,
   "metadata": {
    "collapsed": false
   },
   "outputs": [],
   "source": [
    "import astropy.io.fits as pyfits\n",
    "f1 = pyfits.open(\"all_spec.fits\")\n",
    "f2 = pyfits.open(\"line_spec.fits\")\n",
    "fig = plt.figure(figsize=(9,7))\n",
    "ax = fig.add_subplot(111)\n",
    "ax.loglog(f1[\"SPECTRUM\"].data[\"ENERGY\"], f1[\"SPECTRUM\"].data[\"COUNTS\"])\n",
    "ax.loglog(f2[\"SPECTRUM\"].data[\"ENERGY\"], f2[\"SPECTRUM\"].data[\"COUNTS\"])\n",
    "ax.set_xlim(0.1, 10)\n",
    "ax.set_ylim(1, 3.0e4)\n",
    "ax.set_xlabel(\"E (keV)\")\n",
    "ax.set_ylabel(\"counts/bin\")"
   ]
  },
  {
   "cell_type": "markdown",
   "metadata": {},
   "source": [
    "Let's zoom into the region surrounding the line, seeing that it has some broadening due to the random velocities of the dark matter particles:"
   ]
  },
  {
   "cell_type": "code",
   "execution_count": null,
   "metadata": {
    "collapsed": false
   },
   "outputs": [],
   "source": [
    "ax.set_xscale(\"linear\")\n",
    "ax.set_xlim(3,3.7)\n",
    "ax.set_ylim(1.,3.0e2)\n",
    "fig"
   ]
  }
 ],
 "metadata": {
  "kernelspec": {
   "display_name": "Python 2",
   "language": "python",
   "name": "python2"
  },
  "language_info": {
   "codemirror_mode": {
    "name": "ipython",
    "version": 2
   },
   "file_extension": ".py",
   "mimetype": "text/x-python",
   "name": "python",
   "nbconvert_exporter": "python",
   "pygments_lexer": "ipython2",
   "version": "2.7.12"
  }
 },
 "nbformat": 4,
 "nbformat_minor": 0
}
