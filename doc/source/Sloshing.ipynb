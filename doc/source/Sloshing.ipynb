{
 "cells": [
  {
   "cell_type": "code",
   "execution_count": null,
   "metadata": {
    "collapsed": true
   },
   "outputs": [],
   "source": [
    "%matplotlib inline\n",
    "import yt\n",
    "import pyxsim\n",
    "import yt.units as u\n",
    "import aplpy\n",
    "import astropy.io.fits as pyfits\n",
    "import matplotlib.pyplot as plt"
   ]
  },
  {
   "cell_type": "code",
   "execution_count": null,
   "metadata": {
    "collapsed": false
   },
   "outputs": [],
   "source": [
    "ds = yt.load(\"GasSloshing/sloshing_nomag2_hdf5_plt_cnt_0150\")"
   ]
  },
  {
   "cell_type": "code",
   "execution_count": null,
   "metadata": {
    "collapsed": true
   },
   "outputs": [],
   "source": [
    "sp = ds.sphere(\"c\", (500.,\"kpc\"))"
   ]
  },
  {
   "cell_type": "code",
   "execution_count": null,
   "metadata": {
    "collapsed": true
   },
   "outputs": [],
   "source": [
    "apec_model = pyxsim.XSpecThermalModel(\"apec\", 0.1, 10.0, 10000)"
   ]
  },
  {
   "cell_type": "code",
   "execution_count": null,
   "metadata": {
    "collapsed": true
   },
   "outputs": [],
   "source": [
    "source_model = pyxsim.ThermalSourceModel(apec_model, Zmet=0.5)"
   ]
  },
  {
   "cell_type": "code",
   "execution_count": null,
   "metadata": {
    "collapsed": false
   },
   "outputs": [],
   "source": [
    "photons = pyxsim.PhotonList.from_data_source(sp, 0.1, 2000.0*u.cm**2, 100000.0*u.s, source_model)"
   ]
  },
  {
   "cell_type": "code",
   "execution_count": null,
   "metadata": {
    "collapsed": true
   },
   "outputs": [],
   "source": [
    "tbabs_model = pyxsim.XSpecAbsorbModel(\"TBabs\", 0.04)"
   ]
  },
  {
   "cell_type": "code",
   "execution_count": null,
   "metadata": {
    "collapsed": false
   },
   "outputs": [],
   "source": [
    "arf = pyxsim.AuxiliaryResponseFile(\"/Users/jzuhone/Data/xray_data/acisi_aimpt_cy17.arf\")\n",
    "rmf = pyxsim.RedistributionMatrixFile(\"/Users/jzuhone/Data/xray_data/acisi_aimpt_cy17.rmf\")"
   ]
  },
  {
   "cell_type": "code",
   "execution_count": null,
   "metadata": {
    "collapsed": false
   },
   "outputs": [],
   "source": [
    "events_z = photons.project_photons(\"z\", area_new=arf, exp_time_new=(50.,\"ks\"), absorb_model=tbabs_model,\n",
    "                                   sky_center=(45.,30.))"
   ]
  },
  {
   "cell_type": "code",
   "execution_count": null,
   "metadata": {
    "collapsed": false
   },
   "outputs": [],
   "source": [
    "events_z.write_fits_image(\"sloshing_z_img.fits\", emin=0.5, emax=7.0, clobber=True)"
   ]
  },
  {
   "cell_type": "code",
   "execution_count": null,
   "metadata": {
    "collapsed": false
   },
   "outputs": [],
   "source": [
    "fig = aplpy.FITSFigure(\"sloshing_z_img.fits\")\n",
    "fig.show_grayscale(stretch='sqrt')"
   ]
  },
  {
   "cell_type": "code",
   "execution_count": null,
   "metadata": {
    "collapsed": false
   },
   "outputs": [],
   "source": [
    "events_z.convolve_energies(rmf)"
   ]
  },
  {
   "cell_type": "code",
   "execution_count": null,
   "metadata": {
    "collapsed": true
   },
   "outputs": [],
   "source": [
    "events_z.write_spectrum(\"sloshing_z_spec.fits\", clobber=True)"
   ]
  },
  {
   "cell_type": "code",
   "execution_count": null,
   "metadata": {
    "collapsed": false
   },
   "outputs": [],
   "source": [
    "f = pyfits.open(\"sloshing_z_spec.fits\")\n",
    "plt.figure(figsize=(10,10))\n",
    "plt.loglog(f[\"SPECTRUM\"].data[\"CHANNEL\"], f[\"SPECTRUM\"].data[\"COUNTS\"])\n",
    "plt.xlim(30, 1000)\n",
    "plt.xlabel(\"Channel (PI)\")\n",
    "plt.ylabel(\"Counts\")\n",
    "f.close()"
   ]
  }
 ],
 "metadata": {
  "kernelspec": {
   "display_name": "Python 2",
   "language": "python",
   "name": "python2"
  },
  "language_info": {
   "codemirror_mode": {
    "name": "ipython",
    "version": 2
   },
   "file_extension": ".py",
   "mimetype": "text/x-python",
   "name": "python",
   "nbconvert_exporter": "python",
   "pygments_lexer": "ipython2",
   "version": "2.7.11"
  }
 },
 "nbformat": 4,
 "nbformat_minor": 0
}
