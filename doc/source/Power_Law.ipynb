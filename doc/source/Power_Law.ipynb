{
 "cells": [
  {
   "cell_type": "code",
   "execution_count": null,
   "metadata": {
    "collapsed": true
   },
   "outputs": [],
   "source": [
    "%matplotlib inline\n",
    "import yt\n",
    "import numpy as np\n",
    "from yt.utilities.physical_ratios import cm_per_kpc, K_per_keV\n",
    "from yt.units import mp\n",
    "import pyxsim"
   ]
  },
  {
   "cell_type": "code",
   "execution_count": null,
   "metadata": {
    "collapsed": true
   },
   "outputs": [],
   "source": [
    "R = 1000. # radius of cluster in kpc\n",
    "r_c = 100. # scale radius of cluster in kpc\n",
    "rho_c = 1.673e-26 # scale density in g/cm^3\n",
    "beta = 1. # beta parameter\n",
    "kT = 4. # cluster temperature in keV\n",
    "nx = 256\n",
    "ddims = (nx,nx,nx)"
   ]
  },
  {
   "cell_type": "code",
   "execution_count": null,
   "metadata": {
    "collapsed": true
   },
   "outputs": [],
   "source": [
    "x, y, z = np.mgrid[-R:R:nx*1j,\n",
    "                   -R:R:nx*1j,\n",
    "                   -R:R:nx*1j]\n",
    "r = np.sqrt(x**2+y**2+z**2)"
   ]
  },
  {
   "cell_type": "code",
   "execution_count": null,
   "metadata": {
    "collapsed": true
   },
   "outputs": [],
   "source": [
    "dens = np.zeros(ddims)\n",
    "dens[r <= R] = rho_c*(1.+(r[r <= R]/r_c)**2)**(-1.5*beta)\n",
    "dens[r > R] = 0.0\n",
    "temp = kT*K_per_keV*np.ones(ddims)"
   ]
  },
  {
   "cell_type": "code",
   "execution_count": null,
   "metadata": {
    "collapsed": true
   },
   "outputs": [],
   "source": [
    "data = {}\n",
    "data[\"density\"] = (dens, \"g/cm**3\")\n",
    "data[\"temperature\"] = (temp, \"K\")\n",
    "data[\"velocity_x\"] = (np.zeros(ddims), \"cm/s\")\n",
    "data[\"velocity_y\"] = (np.zeros(ddims), \"cm/s\")\n",
    "data[\"velocity_z\"] = (np.zeros(ddims), \"cm/s\")\n",
    "\n",
    "bbox = np.array([[-0.5,0.5], [-0.5,0.5], [-0.5,0.5]])\n",
    "\n",
    "ds = yt.load_uniform_grid(data, ddims, 2*R*cm_per_kpc, bbox=bbox)"
   ]
  },
  {
   "cell_type": "markdown",
   "metadata": {},
   "source": [
    "The next thing we have to do is specify a derived field for the power-law emission. This could come from a variety of sources, for example, relativistic cosmic-ray electrons. For simplicity, we're not going to assume a specific model, except that we will only specify that the source of the power law emission is proportional to the gas mass in each cell:"
   ]
  },
  {
   "cell_type": "code",
   "execution_count": null,
   "metadata": {
    "collapsed": false
   },
   "outputs": [],
   "source": [
    "norm = yt.YTQuantity(1.0e-19, \"photons/s/keV\")\n",
    "def _power_law_emission(field, data):\n",
    "    return norm*data[\"density\"]*data[\"cell_volume\"]/mp\n",
    "ds.add_field((\"gas\",\"power_law_emission\"), function=_power_law_emission, units=\"photons/s/keV\")"
   ]
  },
  {
   "cell_type": "markdown",
   "metadata": {},
   "source": [
    "where we have normalized the field arbitrarily. Note that the emission field for a power-law model is a bit odd in that it is technically a specific *luminosity* for the cell. This is done primarily for simplicity in designing the underlying algorithm.  "
   ]
  },
  {
   "cell_type": "code",
   "execution_count": null,
   "metadata": {
    "collapsed": true
   },
   "outputs": [],
   "source": []
  }
 ],
 "metadata": {
  "kernelspec": {
   "display_name": "Python 2",
   "language": "python",
   "name": "python2"
  },
  "language_info": {
   "codemirror_mode": {
    "name": "ipython",
    "version": 2
   },
   "file_extension": ".py",
   "mimetype": "text/x-python",
   "name": "python",
   "nbconvert_exporter": "python",
   "pygments_lexer": "ipython2",
   "version": "2.7.12"
  }
 },
 "nbformat": 4,
 "nbformat_minor": 0
}
