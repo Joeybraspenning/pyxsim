{
 "cells": [
  {
   "cell_type": "code",
   "execution_count": 18,
   "metadata": {
    "collapsed": true
   },
   "outputs": [],
   "source": [
    "%matplotlib inline\n",
    "import matplotlib\n",
    "matplotlib.rc(\"font\", size=18, family=\"serif\")\n",
    "import yt\n",
    "import numpy as np\n",
    "import matplotlib.pyplot as plt\n",
    "from yt.utilities.physical_ratios import cm_per_kpc, K_per_keV\n",
    "from yt.units import mp\n",
    "import pyxsim"
   ]
  },
  {
   "cell_type": "code",
   "execution_count": 2,
   "metadata": {
    "collapsed": true
   },
   "outputs": [],
   "source": [
    "R = 1000. # radius of cluster in kpc\n",
    "r_c = 100. # scale radius of cluster in kpc\n",
    "rho_c = 1.673e-26 # scale density in g/cm^3\n",
    "beta = 1. # beta parameter\n",
    "kT = 4. # cluster temperature in keV\n",
    "nx = 256\n",
    "ddims = (nx,nx,nx)"
   ]
  },
  {
   "cell_type": "code",
   "execution_count": 3,
   "metadata": {
    "collapsed": true
   },
   "outputs": [],
   "source": [
    "x, y, z = np.mgrid[-R:R:nx*1j,\n",
    "                   -R:R:nx*1j,\n",
    "                   -R:R:nx*1j]\n",
    "r = np.sqrt(x**2+y**2+z**2)"
   ]
  },
  {
   "cell_type": "code",
   "execution_count": 4,
   "metadata": {
    "collapsed": true
   },
   "outputs": [],
   "source": [
    "dens = np.zeros(ddims)\n",
    "dens[r <= R] = rho_c*(1.+(r[r <= R]/r_c)**2)**(-1.5*beta)\n",
    "dens[r > R] = 0.0\n",
    "temp = kT*K_per_keV*np.ones(ddims)"
   ]
  },
  {
   "cell_type": "code",
   "execution_count": 5,
   "metadata": {
    "collapsed": false
   },
   "outputs": [
    {
     "name": "stderr",
     "output_type": "stream",
     "text": [
      "yt : [INFO     ] 2016-08-05 17:55:32,395 Parameters: current_time              = 0.0\n",
      "yt : [INFO     ] 2016-08-05 17:55:32,396 Parameters: domain_dimensions         = [256 256 256]\n",
      "yt : [INFO     ] 2016-08-05 17:55:32,398 Parameters: domain_left_edge          = [-0.5 -0.5 -0.5]\n",
      "yt : [INFO     ] 2016-08-05 17:55:32,401 Parameters: domain_right_edge         = [ 0.5  0.5  0.5]\n",
      "yt : [INFO     ] 2016-08-05 17:55:32,403 Parameters: cosmological_simulation   = 0.0\n"
     ]
    }
   ],
   "source": [
    "data = {}\n",
    "data[\"density\"] = (dens, \"g/cm**3\")\n",
    "data[\"temperature\"] = (temp, \"K\")\n",
    "data[\"velocity_x\"] = (np.zeros(ddims), \"cm/s\")\n",
    "data[\"velocity_y\"] = (np.zeros(ddims), \"cm/s\")\n",
    "data[\"velocity_z\"] = (np.zeros(ddims), \"cm/s\")\n",
    "\n",
    "bbox = np.array([[-0.5,0.5], [-0.5,0.5], [-0.5,0.5]])\n",
    "\n",
    "ds = yt.load_uniform_grid(data, ddims, 2*R*cm_per_kpc, bbox=bbox)"
   ]
  },
  {
   "cell_type": "markdown",
   "metadata": {},
   "source": [
    "The next thing we have to do is specify a derived field for the power-law emission. This could come from a variety of sources, for example, relativistic cosmic-ray electrons. For simplicity, we're not going to assume a specific model, except that we will only specify that the source of the power law emission is proportional to the gas mass in each cell:"
   ]
  },
  {
   "cell_type": "code",
   "execution_count": 6,
   "metadata": {
    "collapsed": false
   },
   "outputs": [],
   "source": [
    "norm = yt.YTQuantity(1.0e-19, \"photons/s/keV\")\n",
    "def _power_law_emission(field, data):\n",
    "    return norm*data[\"density\"]*data[\"cell_volume\"]/mp\n",
    "ds.add_field((\"gas\",\"power_law_emission\"), function=_power_law_emission, units=\"photons/s/keV\")"
   ]
  },
  {
   "cell_type": "markdown",
   "metadata": {},
   "source": [
    "where we have normalized the field arbitrarily. Note that the emission field for a power-law model is a bit odd in that it is technically a specific *luminosity* for the cell. This is done primarily for simplicity in designing the underlying algorithm.  "
   ]
  },
  {
   "cell_type": "code",
   "execution_count": 7,
   "metadata": {
    "collapsed": false
   },
   "outputs": [],
   "source": [
    "sp = ds.sphere(\"c\", (0.5, \"Mpc\"))"
   ]
  },
  {
   "cell_type": "code",
   "execution_count": 8,
   "metadata": {
    "collapsed": false
   },
   "outputs": [
    {
     "name": "stderr",
     "output_type": "stream",
     "text": [
      "pyxsim: [INFO     ] 2016-08-05 17:55:33,060 Cosmology: h = 0.71, omega_matter = 0.27, omega_lambda = 0.73\n",
      "pyxsim: [INFO     ] 2016-08-05 17:55:33,074 Using emission measure field '(gas, emission_measure)'.\n",
      "pyxsim: [INFO     ] 2016-08-05 17:55:33,076 Using temperature field '(gas, temperature)'.\n",
      "Generating photons : 100%|██████████| 1099136/1099136 [03:32<00:00, 5167.47it/s]\n",
      "pyxsim: [INFO     ] 2016-08-05 17:59:06,929 Finished generating photons.\n",
      "pyxsim: [INFO     ] 2016-08-05 17:59:06,932 Number of photons generated: 63167507\n",
      "pyxsim: [INFO     ] 2016-08-05 17:59:06,933 Number of cells with photons: 1067330\n",
      "pyxsim: [INFO     ] 2016-08-05 17:59:07,030 Cosmology: h = 0.71, omega_matter = 0.27, omega_lambda = 0.73\n",
      "pyxsim: [INFO     ] 2016-08-05 17:59:23,459 Finished generating photons.\n",
      "pyxsim: [INFO     ] 2016-08-05 17:59:23,461 Number of photons generated: 2060907\n",
      "pyxsim: [INFO     ] 2016-08-05 17:59:23,462 Number of cells with photons: 874134\n"
     ]
    }
   ],
   "source": [
    "A = yt.YTQuantity(1000., \"cm**2\")\n",
    "exp_time = yt.YTQuantity(1.0e5, \"s\")\n",
    "redshift = 0.01\n",
    "\n",
    "spec_model = pyxsim.XSpecThermalModel(\"bapec\", 0.01, 80.0, 80000)\n",
    "thermal_model = pyxsim.ThermalSourceModel(spec_model, Zmet=0.3)\n",
    "plaw_model = pyxsim.PowerLawSourceModel(1.0, 0.01, 80.0, \"power_law_emission\", 1.0)\n",
    "\n",
    "thermal_photons = pyxsim.PhotonList.from_data_source(sp, redshift, A, exp_time, thermal_model)\n",
    "plaw_photons = pyxsim.PhotonList.from_data_source(sp, redshift, A, exp_time, plaw_model)\n",
    "\n",
    "photons = thermal_photons + plaw_photons"
   ]
  },
  {
   "cell_type": "code",
   "execution_count": 9,
   "metadata": {
    "collapsed": true
   },
   "outputs": [],
   "source": [
    "nH_sim = 0.02\n",
    "abs_model = pyxsim.XSpecAbsorbModel(\"TBabs\", nH_sim)"
   ]
  },
  {
   "cell_type": "code",
   "execution_count": 10,
   "metadata": {
    "collapsed": false
   },
   "outputs": [
    {
     "name": "stderr",
     "output_type": "stream",
     "text": [
      "pyxsim: [INFO     ] 2016-08-05 17:59:46,789 Absorbing.\n",
      "pyxsim: [INFO     ] 2016-08-05 18:00:05,028 Total number of observed photons: 18629983\n",
      "/Users/jzuhone/anaconda/lib/python2.7/site-packages/IPython/kernel/__init__.py:13: ShimWarning: The `IPython.kernel` package has been deprecated. You should import from ipykernel or jupyter_client instead.\n",
      "  \"You should import from ipykernel or jupyter_client instead.\", ShimWarning)\n"
     ]
    }
   ],
   "source": [
    "events = photons.project_photons(\"x\", absorb_model=abs_model)"
   ]
  },
  {
   "cell_type": "code",
   "execution_count": 11,
   "metadata": {
    "collapsed": false
   },
   "outputs": [
    {
     "name": "stderr",
     "output_type": "stream",
     "text": [
      "pyxsim: [INFO     ] 2016-08-05 18:00:07,439 Absorbing.\n",
      "pyxsim: [INFO     ] 2016-08-05 18:00:17,971 Total number of observed photons: 1193009\n"
     ]
    }
   ],
   "source": [
    "plaw_events = plaw_photons.project_photons(\"x\", absorb_model=abs_model)"
   ]
  },
  {
   "cell_type": "code",
   "execution_count": 12,
   "metadata": {
    "collapsed": true
   },
   "outputs": [],
   "source": [
    "events.write_spectrum(\"all_spec.fits\", bin_type=\"energy\", emin=0.1, emax=80.0, nchan=8000, clobber=True)\n",
    "plaw_events.write_spectrum(\"plaw_spec.fits\", bin_type=\"energy\", emin=0.1, emax=80.0, nchan=8000, clobber=True)"
   ]
  },
  {
   "cell_type": "code",
   "execution_count": 21,
   "metadata": {
    "collapsed": false
   },
   "outputs": [
    {
     "data": {
      "text/plain": [
       "<matplotlib.text.Text at 0x1792dc890>"
      ]
     },
     "execution_count": 21,
     "metadata": {},
     "output_type": "execute_result"
    },
    {
     "data": {
      "image/png": "[encoded data removed]",
      "text/plain": [
       "<matplotlib.figure.Figure at 0x16a11e410>"
      ]
     },
     "metadata": {},
     "output_type": "display_data"
    }
   ],
   "source": [
    "import astropy.io.fits as pyfits\n",
    "f1 = pyfits.open(\"all_spec.fits\")\n",
    "f2 = pyfits.open(\"plaw_spec.fits\")\n",
    "plt.figure(figsize=(9,7))\n",
    "plt.loglog(f1[\"SPECTRUM\"].data[\"ENERGY\"], f1[\"SPECTRUM\"].data[\"COUNTS\"])\n",
    "plt.loglog(f2[\"SPECTRUM\"].data[\"ENERGY\"], f2[\"SPECTRUM\"].data[\"COUNTS\"])\n",
    "plt.xlim(0.1, 50)\n",
    "plt.ylim(30, 4.0e5)\n",
    "plt.xlabel(\"E (keV)\")\n",
    "plt.ylabel(\"counts/bin\")"
   ]
  },
  {
   "cell_type": "code",
   "execution_count": null,
   "metadata": {
    "collapsed": true
   },
   "outputs": [],
   "source": []
  }
 ],
 "metadata": {
  "kernelspec": {
   "display_name": "Python 2",
   "language": "python",
   "name": "python2"
  },
  "language_info": {
   "codemirror_mode": {
    "name": "ipython",
    "version": 2
   },
   "file_extension": ".py",
   "mimetype": "text/x-python",
   "name": "python",
   "nbconvert_exporter": "python",
   "pygments_lexer": "ipython2",
   "version": "2.7.12"
  }
 },
 "nbformat": 4,
 "nbformat_minor": 0
}
